{
 "cells": [
  {
   "cell_type": "code",
   "execution_count": 1,
   "id": "6ca70b43",
   "metadata": {},
   "outputs": [],
   "source": [
    "import rabbitmqadmin as ma"
   ]
  },
  {
   "cell_type": "code",
   "execution_count": 2,
   "id": "76b2160b",
   "metadata": {},
   "outputs": [],
   "source": [
    "options,args=ma.make_configuration()"
   ]
  },
  {
   "cell_type": "code",
   "execution_count": 3,
   "id": "88ad5a84",
   "metadata": {},
   "outputs": [],
   "source": [
    "options.hostname='192.168.39.174'\n",
    "options.port='30240'\n",
    "options.username='default_user_4XkrDiSPGfRDBtacY5j'\n",
    "options.password='nlRL84qkwYQu2_XktWkvOJtj56lvM4-l'"
   ]
  },
  {
   "cell_type": "code",
   "execution_count": 4,
   "id": "e328bddb",
   "metadata": {},
   "outputs": [
    {
     "name": "stdout",
     "output_type": "stream",
     "text": [
      "vhost declared\n"
     ]
    }
   ],
   "source": [
    "mg = ma.Management(options,['vhost', 'name=test_vhost_1'])\n",
    "mg.invoke_declare()"
   ]
  },
  {
   "cell_type": "code",
   "execution_count": 5,
   "id": "370ace33",
   "metadata": {},
   "outputs": [
    {
     "name": "stdout",
     "output_type": "stream",
     "text": [
      "user declared\n"
     ]
    }
   ],
   "source": [
    "mg = ma.Management(options,['user', 'name=test_user_rubber_ball', 'password=percheelapimpaeccoperche', 'tags='])\n",
    "mg.invoke_declare()"
   ]
  },
  {
   "cell_type": "code",
   "execution_count": 6,
   "id": "af6ccdd7",
   "metadata": {},
   "outputs": [
    {
     "name": "stdout",
     "output_type": "stream",
     "text": [
      "permission declared\n"
     ]
    }
   ],
   "source": [
    "mg = ma.Management(options,['permission', 'vhost=test_vhost_1', 'user=test_user_rubber_ball',\n",
    "                            'configure=.*', 'write=.*', 'read=.*'])\n",
    "mg.invoke_declare()"
   ]
  },
  {
   "cell_type": "code",
   "execution_count": 7,
   "id": "3f0b293e",
   "metadata": {},
   "outputs": [
    {
     "name": "stdout",
     "output_type": "stream",
     "text": [
      "permission deleted\n"
     ]
    }
   ],
   "source": [
    "mg = ma.Management(options, ['permission', 'vhost=test_vhost_1', 'user=test_user_rubber_ball'])\n",
    "mg.invoke_delete()"
   ]
  },
  {
   "cell_type": "code",
   "execution_count": 8,
   "id": "51d601ac",
   "metadata": {},
   "outputs": [
    {
     "name": "stdout",
     "output_type": "stream",
     "text": [
      "user deleted\n"
     ]
    }
   ],
   "source": [
    "mg = ma.Management(options, ['user', 'name=test_user_rubber_ball'])\n",
    "mg.invoke_delete()"
   ]
  },
  {
   "cell_type": "code",
   "execution_count": 9,
   "id": "b20e1861",
   "metadata": {},
   "outputs": [
    {
     "name": "stdout",
     "output_type": "stream",
     "text": [
      "vhost deleted\n"
     ]
    }
   ],
   "source": [
    "mg=ma.Management(options,['vhost', 'name=test_vhost_1'])\n",
    "mg.invoke_delete()"
   ]
  },
  {
   "cell_type": "code",
   "execution_count": null,
   "id": "75189a90",
   "metadata": {},
   "outputs": [],
   "source": []
  }
 ],
 "metadata": {
  "kernelspec": {
   "display_name": "Python 3 (ipykernel)",
   "language": "python",
   "name": "python3"
  },
  "language_info": {
   "codemirror_mode": {
    "name": "ipython",
    "version": 3
   },
   "file_extension": ".py",
   "mimetype": "text/x-python",
   "name": "python",
   "nbconvert_exporter": "python",
   "pygments_lexer": "ipython3",
   "version": "3.10.10"
  }
 },
 "nbformat": 4,
 "nbformat_minor": 5
}
